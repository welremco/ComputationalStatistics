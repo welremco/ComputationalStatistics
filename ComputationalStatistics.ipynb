{
 "cells":[
  {
   "cell_type":"markdown",
   "source":[
    "# Assignment 1\n",
    "## Jan Super, Remco Spelthan"
   ],
   "attachments":{
    
   },
   "metadata":{
    "datalore":{
     "node_id":"yB6AAtWXS8bujbGUufkUho",
     "type":"MD",
     "hide_input_from_viewers":false,
     "hide_output_from_viewers":false
    }
   }
  },
  {
   "cell_type":"code",
   "source":[
    "import pandas as pd\n",
    "import matplotlib.pyplot as plt\n",
    "df = pd.read_csv('a1_data.csv')\n",
    "df.head()"
   ],
   "execution_count":23,
   "outputs":[
    {
     "data":{
      "text\/html":[
       "<div>\n",
       "<style scoped>\n",
       "    .dataframe tbody tr th:only-of-type {\n",
       "        vertical-align: middle;\n",
       "    }\n",
       "\n",
       "    .dataframe tbody tr th {\n",
       "        vertical-align: top;\n",
       "    }\n",
       "\n",
       "    .dataframe thead th {\n",
       "        text-align: right;\n",
       "    }\n",
       "<\/style>\n",
       "<table border=\"1\" class=\"dataframe\">\n",
       "  <thead>\n",
       "    <tr style=\"text-align: right;\">\n",
       "      <th><\/th>\n",
       "      <th>A<\/th>\n",
       "      <th>B<\/th>\n",
       "      <th>C<\/th>\n",
       "      <th>D<\/th>\n",
       "      <th>E<\/th>\n",
       "      <th>F<\/th>\n",
       "      <th>G<\/th>\n",
       "      <th>H<\/th>\n",
       "      <th>I<\/th>\n",
       "      <th>J<\/th>\n",
       "      <th>K<\/th>\n",
       "    <\/tr>\n",
       "  <\/thead>\n",
       "  <tbody>\n",
       "    <tr>\n",
       "      <th>0<\/th>\n",
       "      <td>3.179665<\/td>\n",
       "      <td>3.030625<\/td>\n",
       "      <td>3.222752<\/td>\n",
       "      <td>2.836624<\/td>\n",
       "      <td>3.386284<\/td>\n",
       "      <td>1.910165<\/td>\n",
       "      <td>2.179628<\/td>\n",
       "      <td>3.464657<\/td>\n",
       "      <td>3.705143<\/td>\n",
       "      <td>3.921797<\/td>\n",
       "      <td>3.566766<\/td>\n",
       "    <\/tr>\n",
       "    <tr>\n",
       "      <th>1<\/th>\n",
       "      <td>3.313155<\/td>\n",
       "      <td>3.127535<\/td>\n",
       "      <td>3.367189<\/td>\n",
       "      <td>2.799483<\/td>\n",
       "      <td>2.527001<\/td>\n",
       "      <td>2.359419<\/td>\n",
       "      <td>2.461049<\/td>\n",
       "      <td>3.394200<\/td>\n",
       "      <td>3.002324<\/td>\n",
       "      <td>3.487035<\/td>\n",
       "      <td>3.753581<\/td>\n",
       "    <\/tr>\n",
       "    <tr>\n",
       "      <th>2<\/th>\n",
       "      <td>3.531847<\/td>\n",
       "      <td>3.554489<\/td>\n",
       "      <td>3.441636<\/td>\n",
       "      <td>2.582776<\/td>\n",
       "      <td>2.730851<\/td>\n",
       "      <td>2.263097<\/td>\n",
       "      <td>2.461049<\/td>\n",
       "      <td>3.452962<\/td>\n",
       "      <td>3.531599<\/td>\n",
       "      <td>3.773342<\/td>\n",
       "      <td>3.254741<\/td>\n",
       "    <\/tr>\n",
       "    <tr>\n",
       "      <th>3<\/th>\n",
       "      <td>3.621384<\/td>\n",
       "      <td>3.828081<\/td>\n",
       "      <td>3.640896<\/td>\n",
       "      <td>2.704508<\/td>\n",
       "      <td>1.727649<\/td>\n",
       "      <td>1.855651<\/td>\n",
       "      <td>2.021082<\/td>\n",
       "      <td>3.570291<\/td>\n",
       "      <td>3.611415<\/td>\n",
       "      <td>3.725917<\/td>\n",
       "      <td>3.328318<\/td>\n",
       "    <\/tr>\n",
       "    <tr>\n",
       "      <th>4<\/th>\n",
       "      <td>3.285691<\/td>\n",
       "      <td>3.206716<\/td>\n",
       "      <td>2.992451<\/td>\n",
       "      <td>2.562289<\/td>\n",
       "      <td>3.011359<\/td>\n",
       "      <td>2.414187<\/td>\n",
       "      <td>2.612864<\/td>\n",
       "      <td>3.331957<\/td>\n",
       "      <td>3.143080<\/td>\n",
       "      <td>3.679484<\/td>\n",
       "      <td>3.874796<\/td>\n",
       "    <\/tr>\n",
       "  <\/tbody>\n",
       "<\/table>\n",
       "<\/div>"
      ]
     },
     "metadata":{
      
     },
     "output_type":"display_data"
    }
   ],
   "metadata":{
    "datalore":{
     "node_id":"7eygmE352hhJOXTZLf2fP9",
     "type":"CODE",
     "hide_input_from_viewers":false,
     "hide_output_from_viewers":false
    }
   }
  },
  {
   "cell_type":"code",
   "source":[
    "fig, axis = plt.subplots(1,11,figsize=(20, 2))\n",
    "df.hist(ax=axis, bins = 100)"
   ],
   "execution_count":24,
   "outputs":[
    {
     "data":{
      "text\/html":[
       "<pre>array([%lt;AxesSubplot:title={'center':'A'}%gt;,\n",
       "       %lt;AxesSubplot:title={'center':'B'}%gt;,\n",
       "       %lt;AxesSubplot:title={'center':'C'}%gt;,\n",
       "       %lt;AxesSubplot:title={'center':'D'}%gt;,\n",
       "       %lt;AxesSubplot:title={'center':'E'}%gt;,\n",
       "       %lt;AxesSubplot:title={'center':'F'}%gt;,\n",
       "       %lt;AxesSubplot:title={'center':'G'}%gt;,\n",
       "       %lt;AxesSubplot:title={'center':'H'}%gt;,\n",
       "       %lt;AxesSubplot:title={'center':'I'}%gt;,\n",
       "       %lt;AxesSubplot:title={'center':'J'}%gt;,\n",
       "       %lt;AxesSubplot:title={'center':'K'}%gt;], dtype=object)<\/pre>"
      ]
     },
     "metadata":{
      
     },
     "output_type":"display_data"
    },
    {
     "data":{
      "image\/png":"[encoded data removed]"
     },
     "metadata":{
      "image\/png":{
       
      }
     },
     "output_type":"display_data"
    }
   ],
   "metadata":{
    "datalore":{
     "node_id":"EVmvVW3JXERzLvHnoJCfDM",
     "type":"CODE",
     "hide_input_from_viewers":false,
     "hide_output_from_viewers":false
    }
   }
  },
  {
   "cell_type":"markdown",
   "source":[
    "# Assumptions\n",
    "There is a true causal effect: We assume that there is a causal relationship between the variables of interest. This means that changes in one variable actually cause changes in another variable.\\\n",
    "\\\n",
    "No confounding: We assume that there are no other factors that influence both the independent and dependent variables. In other words, there are no other variables that explain the relationship between the two variables of interest.\\\n",
    "\\\n",
    "Independence: We assume that the independent variable is not influenced by the dependent variable, and vice versa. This means that there is no reverse causation or feedback loops in the relationship.\\\n",
    "\\\n",
    "Stability: We assume that the relationship between the variables is stable over time and across different contexts.\\\n",
    "\\\n",
    "Normality: We assume that the residuals (the differences between the actual values and the predicted values) are normally distributed.\\\n",
    "\\\n",
    "No measurement error: We assume that the variables are measured without error, or that any measurement error is independent of the true value of the variable."
   ],
   "attachments":{
    
   },
   "metadata":{
    "datalore":{
     "node_id":"hBciusGiV8eYOrhPFhCzD7",
     "type":"MD",
     "hide_input_from_viewers":false,
     "hide_output_from_viewers":false
    }
   }
  },
  {
   "cell_type":"markdown",
   "source":[
    "To estimate the DAG we follow Park's algorithm.\n",
    "\n",
    "# DAG's\n",
    "DAG1: X -> Y \\\n",
    "X are the covariates and Y the response. \n",
    "\n",
    "DAG2: X, Y \\\n",
    "No connection between variables\n",
    "\n",
    "DAG1 encapsulates all relationships between a given feature and another feature when they have a one way relation.\n",
    "DAG2 encapsulates all relationships between given features that are independent.\n",
    "# Procedure\n",
    "Check if the correlation between X and Y is zero using a Pearson’s correlation test. If it is zero, print DAG2 (independent variables).\n",
    "If the correlation is non-zero, use an F-test for normal distribution to compare the variances of X and Y.\n",
    "Meaning that: $Y = \\epsilon_{1}$, $X = \\epsilon_{2}$\n",
    "\n",
    "If Var(Y) > Var(X), print DAG1 (X influences Y).\n",
    "Meaning that: $Y = \\beta_{1} * X + \\epsilon_{1}$ \\\n",
    "Else, swap around the X and Y and run the same test to denote the other combination as DAG1."
   ],
   "attachments":{
    
   },
   "metadata":{
    "datalore":{
     "node_id":"f5dOOI7VedoLVWMhj7cRFR",
     "type":"MD",
     "hide_input_from_viewers":false,
     "hide_output_from_viewers":false
    }
   }
  },
  {
   "cell_type":"markdown",
   "source":[
    "# Implementation"
   ],
   "attachments":{
    
   },
   "metadata":{
    "datalore":{
     "node_id":"cCtfhGqQfkaBO0ws9pSpcN",
     "type":"MD",
     "hide_input_from_viewers":false,
     "hide_output_from_viewers":false
    }
   }
  },
  {
   "cell_type":"code",
   "source":[
    "from scipy.stats import pearsonr\n",
    "\n",
    "list1 = list(df.columns)\n",
    "list2 = list(df.columns)\n",
    "related = []\n",
    "for x in list1:\n",
    "    for y in list2:\n",
    "        corr, p_value = pearsonr(df[x], df[y])\n",
    "        if p_value > 0.05:\n",
    "            related.append([x,y])\n",
    "            print(x,y)\n",
    "    # list1.remove(x)"
   ],
   "execution_count":44,
   "outputs":[
    {
     "name":"stdout",
     "text":[
      "A F\n",
      "A G\n",
      "B E\n",
      "C H\n",
      "C I\n",
      "D F\n",
      "D G\n",
      "D H\n",
      "D I\n",
      "D K\n",
      "E B\n",
      "E G\n",
      "F A\n",
      "F D\n",
      "F K\n",
      "G A\n",
      "G D\n",
      "G E\n",
      "G I\n",
      "H C\n",
      "H D\n",
      "I C\n",
      "I D\n",
      "I G\n",
      "K D\n",
      "K F\n"
     ],
     "output_type":"stream"
    }
   ],
   "metadata":{
    "datalore":{
     "node_id":"JN5tbMiMNKGUVW8NkzM8AH",
     "type":"CODE",
     "hide_input_from_viewers":false,
     "hide_output_from_viewers":false
    }
   }
  },
  {
   "cell_type":"code",
   "source":[
    "import numpy as np\n",
    "from scipy.stats import norm\n",
    "\n",
    "list1 = list(df.columns)\n",
    "list2 = list(df.columns)\n",
    "\n",
    "fail_to_reject = []\n",
    "\n",
    "for x in list1:\n",
    "    for y in list2:\n",
    "        # compute the Pearson correlation coefficient between 'x' and 'y'\n",
    "        corr_coef = df[x].corr(df[y])\n",
    "\n",
    "        # compute the standard error of the correlation coefficient\n",
    "        n = len(df)\n",
    "        standard_error = 1\/np.sqrt(n-3)\n",
    "\n",
    "        # compute the z-score\n",
    "        z_score = corr_coef\/standard_error\n",
    "\n",
    "        # compute the p-value using the standard normal distribution\n",
    "        p_value = norm.sf(abs(z_score))*2\n",
    "\n",
    "        # set the significance level\n",
    "        alpha = 0.05\n",
    "        # compare the z-score to the critical value\n",
    "        z_crit = norm.ppf(1 - alpha\/2)\n",
    "        if abs(z_score) > z_crit:\n",
    "            pass\n",
    "        else:\n",
    "            #print('Fail to reject the null hypothesis')\n",
    "            fail_to_reject.append([x,y])\n",
    "\n",
    "        # print the z-score and p-value\n",
    "        #print('Z-score:', z_score)\n",
    "        #print('p-value:', p_value)\n",
    "\n",
    "\n",
    "print(fail_to_reject)\n",
    "print(related)"
   ],
   "execution_count":65,
   "outputs":[
    {
     "name":"stdout",
     "text":[
      "[['A', 'F'], ['A', 'G'], ['B', 'E'], ['C', 'H'], ['C', 'I'], ['D', 'F'], ['D', 'G'], ['D', 'H'], ['D', 'I'], ['D', 'K'], ['E', 'B'], ['E', 'G'], ['F', 'A'], ['F', 'D'], ['F', 'K'], ['G', 'A'], ['G', 'D'], ['G', 'E'], ['G', 'I'], ['H', 'C'], ['H', 'D'], ['I', 'C'], ['I', 'D'], ['I', 'G'], ['K', 'D'], ['K', 'F']]\n",
      "[['A', 'F'], ['A', 'G'], ['B', 'E'], ['C', 'H'], ['C', 'I'], ['D', 'F'], ['D', 'G'], ['D', 'H'], ['D', 'I'], ['D', 'K'], ['E', 'B'], ['E', 'G'], ['F', 'A'], ['F', 'D'], ['F', 'K'], ['G', 'A'], ['G', 'D'], ['G', 'E'], ['G', 'I'], ['H', 'C'], ['H', 'D'], ['I', 'C'], ['I', 'D'], ['I', 'G'], ['K', 'D'], ['K', 'F']]\n"
     ],
     "output_type":"stream"
    }
   ],
   "metadata":{
    "datalore":{
     "node_id":"0kUIw6SvZfkvSR56U0J9po",
     "type":"CODE",
     "hide_input_from_viewers":false,
     "hide_output_from_viewers":false
    }
   }
  },
  {
   "cell_type":"markdown",
   "source":[
    "For the sake of providing examples two ways of finding out which DAG applies were implemented"
   ],
   "attachments":{
    
   },
   "metadata":{
    "datalore":{
     "node_id":"yi7OaKBMS0v5yAqgSRxj2x",
     "type":"MD",
     "hide_input_from_viewers":false,
     "hide_output_from_viewers":false
    }
   }
  },
  {
   "cell_type":"code",
   "source":[
    "from scipy.stats import f\n",
    "list1 = list(df.columns)\n",
    "list2 = list(df.columns)\n",
    "\n",
    "order = []\n",
    "\n",
    "for x in list1:\n",
    "    for y in list2:\n",
    "        bruh = False\n",
    "        for combo in fail_to_reject:\n",
    "            if set([x,y]).issubset(set(combo)):\n",
    "                bruh = True\n",
    "        if not bruh:\n",
    "            # compute the variances of 'x' and 'y'\n",
    "            var_x = df[x].var(ddof=1)\n",
    "            var_y = df[y].var(ddof=1)\n",
    "\n",
    "            # compute the F-statistic and p-value\n",
    "            f_stat = var_x\/var_y\n",
    "            df1 = len(df[x])-1\n",
    "            df2 = len(df[y])-1\n",
    "            p_value = f.sf(f_stat, df1, df2)\n",
    "\n",
    "            # set the significance level\n",
    "            alpha = 0.05\n",
    "\n",
    "            # compare the p-value to the significance level\n",
    "            if p_value < alpha:\n",
    "                #print('Reject the null hypothesis')\n",
    "                order.append([x,y])\n",
    "print(order)"
   ],
   "execution_count":70,
   "outputs":[
    {
     "name":"stdout",
     "text":[
      "[['A', 'B'], ['C', 'A'], ['C', 'B'], ['D', 'A'], ['D', 'B'], ['D', 'C'], ['D', 'E'], ['E', 'A'], ['E', 'C'], ['E', 'H'], ['E', 'I'], ['E', 'K'], ['F', 'B'], ['F', 'C'], ['F', 'E'], ['F', 'G'], ['F', 'H'], ['F', 'I'], ['G', 'B'], ['G', 'C'], ['G', 'H'], ['G', 'K'], ['H', 'B'], ['I', 'A'], ['I', 'B'], ['I', 'H'], ['J', 'A'], ['J', 'B'], ['J', 'C'], ['J', 'D'], ['J', 'E'], ['J', 'F'], ['J', 'G'], ['J', 'H'], ['J', 'I'], ['J', 'K'], ['K', 'A'], ['K', 'B'], ['K', 'C'], ['K', 'H']]\n"
     ],
     "output_type":"stream"
    }
   ],
   "metadata":{
    "datalore":{
     "node_id":"F0iwxrwanAsTTvmzlygtIx",
     "type":"CODE",
     "hide_input_from_viewers":false,
     "hide_output_from_viewers":false
    }
   }
  },
  {
   "cell_type":"markdown",
   "source":[
    "# Limitations"
   ],
   "attachments":{
    
   },
   "metadata":{
    "datalore":{
     "node_id":"pRz2YnsllqN7muQgvKyiBF",
     "type":"MD",
     "hide_input_from_viewers":false,
     "hide_output_from_viewers":false
    }
   }
  },
  {
   "cell_type":"markdown",
   "source":[
    "## Statistical\n",
    "Park's algorithm assumes that the relationships between variables are linear and additive. This means that the algorithm may not be able to capture more complex relationships such as non-linear or interactive effects. As a result, the algorithm may fail to identify causal relationships in situations where non-linear or interactive effects are present.\n",
    "\n",
    "Park's algorithm assumes that there are no unmeasured confounding variables that are related to both the cause and effect variables. This assumption, known as the \"no unmeasured confounding\" assumption, is a key assumption in causal inference, and violation of this assumption can lead to biased estimates of causal effects.\n",
    "\n",
    "Park's algorithm assumes that the data is generated from a causal directed acyclic graph (DAG), which is a graph that represents the causal relationships between variables. This assumption may not hold in real-world data, where there may be feedback loops, cycles, or other complex causal structures.\n",
    "\n",
    "Park's algorithm assumes that the data is independent and identically distributed (i.i.d.), which means that the observations are independent of each other and have the same distribution. This assumption may not hold in real-world data, where there may be temporal or spatial dependencies, or where the data is clustered or hierarchical.\n",
    "\n",
    "Park's algorithm assumes that the data is free from measurement errors, missing data, and outliers. In practice, these issues can be common in real-world data, and can lead to biased estimates of causal effects if not properly addressed.\n",
    "\n",
    "## Assumption violations\n",
    "Correlation does not equal causation, this is obvious from the real world example of the rate of divorce in Maine having a 99%+ correlation to the margerine consumption per capita \\href{https:\/\/www.bbc.com\/news\/magazine-27537142}. This obviously is not caused by one another, but would hold in the tests we ran.\n",
    "\n",
    "No confounding assumption: A violation of this assumption could occur if there are other variables that influence both the independent and dependent variables. For example, the correlation between chocolate consumption and Noble laureates in https:\/\/www.sciencedirect.com\/science\/article\/pii\/S2590291120300711 indicates a correlation between these two variables. But this is not indicative of any causal relationship. But this would still hold in our tests.\n",
    "\n",
    "A violation of the independence assumption of our independent variable could occur when we have a feedback loop, that influences the dependent variable, that in turn changes the independent variable, which changes the independent variable etc. An example of this is glucose and insulin cycle, in where both variables are constantly affecting eachother. https:\/\/www.medicalnewstoday.com\/articles\/316427\n",
    "\n",
    "The stability assumption could be violated when the data is expanded to other populations or different contexts. This would in turn change the causal relationships between the variables. An example of this is overfitting on a training set, but not performing as well on the test dataset.\n",
    "\n",
    "The normality assumption could be violated when the residuals between two variables are not normally distributed\n",
    "\n",
    "The no measurement error assumption could be violated when the measurement of the independent variable is inprecise. This could lead to a biased estimate of the true effect."
   ],
   "attachments":{
    
   },
   "metadata":{
    "datalore":{
     "node_id":"LtrvxJ9vf0m1TgDrVQI2sJ",
     "type":"MD",
     "hide_input_from_viewers":false,
     "hide_output_from_viewers":false
    }
   }
  },
  {
   "cell_type":"code",
   "source":[
    
   ],
   "execution_count":null,
   "outputs":[
    
   ],
   "metadata":{
    "datalore":{
     "node_id":"zZTbAejNm1DumZugKoBRBW",
     "type":"CODE",
     "hide_input_from_viewers":false,
     "hide_output_from_viewers":false
    }
   }
  }
 ],
 "metadata":{
  "kernelspec":{
   "display_name":"Python",
   "language":"python",
   "name":"python"
  },
  "datalore":{
   "version":1,
   "computation_mode":"JUPYTER",
   "package_manager":"pip",
   "base_environment":"default",
   "packages":[
    
   ]
  }
 },
 "nbformat":4,
 "nbformat_minor":4
}
